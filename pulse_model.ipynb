{
 "cells": [
  {
   "cell_type": "code",
   "execution_count": 6,
   "metadata": {},
   "outputs": [],
   "source": [
    "import pandas as pd\n",
    "import os\n",
    "import numpy as np\n",
    "from utils.data_process import sample_data"
   ]
  },
  {
   "cell_type": "code",
   "execution_count": 7,
   "metadata": {},
   "outputs": [],
   "source": [
    "sample_size = 150"
   ]
  },
  {
   "cell_type": "code",
   "execution_count": 8,
   "metadata": {},
   "outputs": [
    {
     "name": "stdout",
     "output_type": "stream",
     "text": [
      "(274, 150)\n",
      "(274, 2)\n"
     ]
    }
   ],
   "source": [
    "x = []\n",
    "y = []\n",
    "# if True:\n",
    "for file in os.listdir(\"data/preds\"):\n",
    "    df = pd.read_csv(f\"data/preds/{file}\")\n",
    "    pulse = np.array(df[\"pulse\"])\n",
    "    pulse, num_samples = sample_data(pulse)\n",
    "    x.extend(pulse)\n",
    "    y.extend([[df[\"sys\"][0], df[\"dia\"][0]]]*num_samples)\n",
    "  \n",
    "x = np.array(x)\n",
    "y = np.array(y)\n",
    "print(np.shape(x))\n",
    "print(np.shape(y))\n"
   ]
  },
  {
   "cell_type": "code",
   "execution_count": 9,
   "metadata": {},
   "outputs": [],
   "source": [
    "from sklearn.model_selection import train_test_split\n",
    "x_train, x_test, y_train, y_test = train_test_split(x, y, test_size=0.05, random_state=10)\n"
   ]
  },
  {
   "cell_type": "code",
   "execution_count": 15,
   "metadata": {},
   "outputs": [],
   "source": [
    "from keras.models import Sequential\n",
    "from keras.layers import Conv1D, MaxPooling1D, LSTM, Dense, Flatten\n",
    "\n",
    "model = Sequential()\n",
    "model.add(Conv1D(filters=64, kernel_size=3, activation='relu', input_shape=(150, 1)))\n",
    "model.add(MaxPooling1D(pool_size=2))\n",
    "model.add(Conv1D(filters=16, kernel_size=3, activation='relu'))\n",
    "model.add(MaxPooling1D(pool_size=2))\n",
    "# model.add(LSTM(64, return_sequences=True))\n",
    "model.add(Flatten())\n",
    "model.add(Dense(32, activation='relu'))\n",
    "model.add(Dense(2))  # 2 outputs for systolic and diastolic pressure\n",
    "\n",
    "model.compile(optimizer='adam', loss='mse')\n"
   ]
  },
  {
   "cell_type": "code",
   "execution_count": 16,
   "metadata": {},
   "outputs": [
    {
     "name": "stdout",
     "output_type": "stream",
     "text": [
      "Epoch 1/20\n",
      "8/8 [==============================] - 4s 27ms/step - loss: 11106.0537\n",
      "Epoch 2/20\n",
      "8/8 [==============================] - 0s 16ms/step - loss: 10761.6934\n",
      "Epoch 3/20\n",
      "8/8 [==============================] - 0s 23ms/step - loss: 9772.0742\n",
      "Epoch 4/20\n",
      "8/8 [==============================] - 0s 11ms/step - loss: 7621.3638\n",
      "Epoch 5/20\n",
      "8/8 [==============================] - 0s 13ms/step - loss: 4209.0581\n",
      "Epoch 6/20\n",
      "8/8 [==============================] - 0s 20ms/step - loss: 1345.7023\n",
      "Epoch 7/20\n",
      "8/8 [==============================] - 0s 12ms/step - loss: 1150.7067\n",
      "Epoch 8/20\n",
      "8/8 [==============================] - 0s 19ms/step - loss: 826.8116\n",
      "Epoch 9/20\n",
      "8/8 [==============================] - 0s 14ms/step - loss: 796.3251\n",
      "Epoch 10/20\n",
      "8/8 [==============================] - 0s 13ms/step - loss: 707.6251\n",
      "Epoch 11/20\n",
      "8/8 [==============================] - 0s 13ms/step - loss: 652.8559\n",
      "Epoch 12/20\n",
      "8/8 [==============================] - 0s 14ms/step - loss: 618.6122\n",
      "Epoch 13/20\n",
      "8/8 [==============================] - 0s 12ms/step - loss: 575.7448\n",
      "Epoch 14/20\n",
      "8/8 [==============================] - 0s 12ms/step - loss: 542.5182\n",
      "Epoch 15/20\n",
      "8/8 [==============================] - 0s 10ms/step - loss: 507.5688\n",
      "Epoch 16/20\n",
      "8/8 [==============================] - 0s 15ms/step - loss: 477.2727\n",
      "Epoch 17/20\n",
      "8/8 [==============================] - 0s 13ms/step - loss: 441.9142\n",
      "Epoch 18/20\n",
      "8/8 [==============================] - 0s 17ms/step - loss: 417.4581\n",
      "Epoch 19/20\n",
      "8/8 [==============================] - 0s 11ms/step - loss: 383.9635\n",
      "Epoch 20/20\n",
      "8/8 [==============================] - 0s 15ms/step - loss: 354.7768\n"
     ]
    }
   ],
   "source": [
    "epochs = 20\n",
    "batch_size = 35\n",
    "history = model.fit(x_train, y_train, epochs=epochs, batch_size=batch_size)"
   ]
  },
  {
   "cell_type": "code",
   "execution_count": 17,
   "metadata": {},
   "outputs": [
    {
     "name": "stdout",
     "output_type": "stream",
     "text": [
      "1/1 [==============================] - 0s 223ms/step\n",
      "1/1 [==============================] - 1s 1s/step\n"
     ]
    }
   ],
   "source": [
    "from keras.models import load_model\n",
    "model2 = load_model(\"model2.keras\")\n",
    "y_pred = model.predict(x_test)\n",
    "y2_pred = model2.predict(x_test)\n"
   ]
  },
  {
   "cell_type": "code",
   "execution_count": 18,
   "metadata": {},
   "outputs": [
    {
     "name": "stdout",
     "output_type": "stream",
     "text": [
      "[117.27187   72.661835] [117.618935  79.29597 ] [115  81]\n",
      "[127.217636  78.0099  ] [119.28988  80.59967] [114  76]\n",
      "[126.96138  78.89867] [118.19662  79.65639] [153 100]\n",
      "[101.30541   63.146797] [114.72007  77.28016] [101  67]\n",
      "[144.54872  88.84439] [119.83663  80.73833] [137  89]\n",
      "[104.33805  64.72723] [115.59908  77.87202] [127  89]\n",
      "[129.61798  78.79413] [119.791115  81.04156 ] [118  79]\n",
      "[108.30537  67.62474] [115.394844  77.69853 ] [115  81]\n",
      "[113.78987  70.07536] [117.637886  79.378365] [101  67]\n",
      "[146.01343  89.34703] [119.792305  80.71377 ] [114  76]\n",
      "[137.8432   83.12146] [119.8751   80.95455] [134  87]\n",
      "[124.68395  77.02475] [117.79713  79.39739] [115  77]\n",
      "[122.43201  75.94113] [117.31926  79.00987] [162 100]\n",
      "[122.60399  76.37425] [116.71288  78.53633] [136  85]\n"
     ]
    }
   ],
   "source": [
    "for i, val in enumerate(y_pred):\n",
    "    print(f\"{val} {y2_pred[i]} {y_test[i]}\")"
   ]
  },
  {
   "cell_type": "code",
   "execution_count": 19,
   "metadata": {},
   "outputs": [],
   "source": [
    "model.save(\"model3.keras\")"
   ]
  }
 ],
 "metadata": {
  "kernelspec": {
   "display_name": "Python 3",
   "language": "python",
   "name": "python3"
  },
  "language_info": {
   "codemirror_mode": {
    "name": "ipython",
    "version": 3
   },
   "file_extension": ".py",
   "mimetype": "text/x-python",
   "name": "python",
   "nbconvert_exporter": "python",
   "pygments_lexer": "ipython3",
   "version": "3.11.7"
  }
 },
 "nbformat": 4,
 "nbformat_minor": 2
}
