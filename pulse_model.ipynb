{
 "cells": [
  {
   "cell_type": "code",
   "execution_count": 1,
   "metadata": {},
   "outputs": [],
   "source": [
    "import pandas as pd\n",
    "import os\n",
    "import numpy as np\n",
    "from utils.data_process import sample_data"
   ]
  },
  {
   "cell_type": "code",
   "execution_count": 2,
   "metadata": {},
   "outputs": [],
   "source": [
    "sample_size = 150"
   ]
  },
  {
   "cell_type": "code",
   "execution_count": 4,
   "metadata": {},
   "outputs": [
    {
     "name": "stdout",
     "output_type": "stream",
     "text": [
      "(3, 150)\n",
      "(6, 150)\n",
      "(5, 150)\n",
      "(12, 150)\n",
      "(12, 150)\n",
      "(6, 150)\n",
      "(9, 150)\n",
      "(6, 150)\n",
      "(59, 150)\n",
      "(59, 2)\n"
     ]
    }
   ],
   "source": [
    "x = []\n",
    "y = []\n",
    "# if True:\n",
    "for file in os.listdir(\"data/preds\"):\n",
    "    df = pd.read_csv(f\"data/preds/{file}\")\n",
    "    pulse = np.array(df[\"pulse\"])\n",
    "    pulse, num_samples = sample_data(pulse)\n",
    "    print(np.shape(pulse))\n",
    "    x.extend(pulse)\n",
    "    y.extend([[df[\"sys\"][0], df[\"dia\"][0]]]*num_samples)\n",
    "  \n",
    "x = np.array(x)\n",
    "y = np.array(y)\n",
    "print(np.shape(x))\n",
    "print(np.shape(y))\n"
   ]
  },
  {
   "cell_type": "code",
   "execution_count": 8,
   "metadata": {},
   "outputs": [],
   "source": [
    "from sklearn.model_selection import train_test_split\n",
    "x_train, x_test, y_train, y_test = train_test_split(x, y, test_size=0.2, random_state=10)\n"
   ]
  },
  {
   "cell_type": "code",
   "execution_count": 4,
   "metadata": {},
   "outputs": [
    {
     "name": "stdout",
     "output_type": "stream",
     "text": [
      "WARNING:tensorflow:From c:\\Users\\Aliaan\\AppData\\Local\\Programs\\Python\\Python311\\Lib\\site-packages\\keras\\src\\losses.py:2976: The name tf.losses.sparse_softmax_cross_entropy is deprecated. Please use tf.compat.v1.losses.sparse_softmax_cross_entropy instead.\n",
      "\n",
      "WARNING:tensorflow:From c:\\Users\\Aliaan\\AppData\\Local\\Programs\\Python\\Python311\\Lib\\site-packages\\keras\\src\\backend.py:873: The name tf.get_default_graph is deprecated. Please use tf.compat.v1.get_default_graph instead.\n",
      "\n",
      "WARNING:tensorflow:From c:\\Users\\Aliaan\\AppData\\Local\\Programs\\Python\\Python311\\Lib\\site-packages\\keras\\src\\backend.py:6642: The name tf.nn.max_pool is deprecated. Please use tf.nn.max_pool2d instead.\n",
      "\n",
      "WARNING:tensorflow:From c:\\Users\\Aliaan\\AppData\\Local\\Programs\\Python\\Python311\\Lib\\site-packages\\keras\\src\\optimizers\\__init__.py:309: The name tf.train.Optimizer is deprecated. Please use tf.compat.v1.train.Optimizer instead.\n",
      "\n"
     ]
    }
   ],
   "source": [
    "from keras.models import Sequential\n",
    "from keras.layers import Conv1D, MaxPooling1D, LSTM, Dense, Flatten\n",
    "\n",
    "model = Sequential()\n",
    "model.add(Conv1D(filters=64, kernel_size=3, activation='relu', input_shape=(150, 1)))\n",
    "model.add(MaxPooling1D(pool_size=2))\n",
    "model.add(Conv1D(filters=16, kernel_size=3, activation='relu'))\n",
    "model.add(MaxPooling1D(pool_size=2))\n",
    "model.add(LSTM(64, return_sequences=True))\n",
    "model.add(Flatten())\n",
    "model.add(Dense(32, activation='relu'))\n",
    "model.add(Dense(2))  # 2 outputs for systolic and diastolic pressure\n",
    "\n",
    "model.compile(optimizer='adam', loss='mse')\n"
   ]
  },
  {
   "cell_type": "code",
   "execution_count": 5,
   "metadata": {},
   "outputs": [
    {
     "name": "stdout",
     "output_type": "stream",
     "text": [
      "Epoch 1/20\n",
      "WARNING:tensorflow:From c:\\Users\\Aliaan\\AppData\\Local\\Programs\\Python\\Python311\\Lib\\site-packages\\keras\\src\\utils\\tf_utils.py:492: The name tf.ragged.RaggedTensorValue is deprecated. Please use tf.compat.v1.ragged.RaggedTensorValue instead.\n",
      "\n",
      "6/6 [==============================] - 6s 35ms/step - loss: 9964.5146\n",
      "Epoch 2/20\n",
      "6/6 [==============================] - 0s 29ms/step - loss: 9448.0176\n",
      "Epoch 3/20\n",
      "6/6 [==============================] - 0s 29ms/step - loss: 7190.9512\n",
      "Epoch 4/20\n",
      "6/6 [==============================] - 0s 30ms/step - loss: 3363.5369\n",
      "Epoch 5/20\n",
      "6/6 [==============================] - 0s 30ms/step - loss: 734.2788\n",
      "Epoch 6/20\n",
      "6/6 [==============================] - 0s 27ms/step - loss: 241.5815\n",
      "Epoch 7/20\n",
      "6/6 [==============================] - 0s 32ms/step - loss: 429.7001\n",
      "Epoch 8/20\n",
      "6/6 [==============================] - 0s 32ms/step - loss: 177.0738\n",
      "Epoch 9/20\n",
      "6/6 [==============================] - 0s 29ms/step - loss: 119.6707\n",
      "Epoch 10/20\n",
      "6/6 [==============================] - 0s 29ms/step - loss: 125.3106\n",
      "Epoch 11/20\n",
      "6/6 [==============================] - 0s 36ms/step - loss: 104.6075\n",
      "Epoch 12/20\n",
      "6/6 [==============================] - 0s 33ms/step - loss: 77.1002\n",
      "Epoch 13/20\n",
      "6/6 [==============================] - 0s 32ms/step - loss: 80.2587\n",
      "Epoch 14/20\n",
      "6/6 [==============================] - 0s 29ms/step - loss: 79.3223\n",
      "Epoch 15/20\n",
      "6/6 [==============================] - 0s 60ms/step - loss: 73.6123\n",
      "Epoch 16/20\n",
      "6/6 [==============================] - 0s 48ms/step - loss: 74.1131\n",
      "Epoch 17/20\n",
      "6/6 [==============================] - 0s 34ms/step - loss: 73.7555\n",
      "Epoch 18/20\n",
      "6/6 [==============================] - 0s 34ms/step - loss: 72.7237\n",
      "Epoch 19/20\n",
      "6/6 [==============================] - 0s 35ms/step - loss: 73.7362\n",
      "Epoch 20/20\n",
      "6/6 [==============================] - 0s 32ms/step - loss: 72.3518\n"
     ]
    }
   ],
   "source": [
    "epochs = 20\n",
    "batch_size = 10\n",
    "history = model.fit(x, y, epochs=epochs, batch_size=batch_size)"
   ]
  },
  {
   "cell_type": "code",
   "execution_count": 9,
   "metadata": {},
   "outputs": [
    {
     "name": "stdout",
     "output_type": "stream",
     "text": [
      "1/1 [==============================] - 1s 952ms/step\n"
     ]
    }
   ],
   "source": [
    "y_pred = model.predict(x_test)"
   ]
  },
  {
   "cell_type": "code",
   "execution_count": 12,
   "metadata": {},
   "outputs": [
    {
     "name": "stdout",
     "output_type": "stream",
     "text": [
      "(12, 150)\n",
      "<class 'numpy.ndarray'>\n"
     ]
    }
   ],
   "source": [
    "print(np.shape(x_test))\n",
    "print(type(x_test))"
   ]
  },
  {
   "cell_type": "code",
   "execution_count": 10,
   "metadata": {},
   "outputs": [
    {
     "name": "stdout",
     "output_type": "stream",
     "text": [
      "[[116.27044   78.04585 ]\n",
      " [116.79061   78.41692 ]\n",
      " [119.126045  80.06535 ]\n",
      " [118.5578    79.70346 ]\n",
      " [118.24      79.5693  ]\n",
      " [116.097664  77.991104]\n",
      " [118.23768   79.492134]\n",
      " [118.17768   79.50893 ]\n",
      " [116.60473   78.26906 ]\n",
      " [120.05093   80.76922 ]\n",
      " [119.327995  80.351074]\n",
      " [116.76719   78.39822 ]]\n"
     ]
    }
   ],
   "source": [
    "print(y_pred)"
   ]
  },
  {
   "cell_type": "code",
   "execution_count": 6,
   "metadata": {},
   "outputs": [],
   "source": [
    "model.save(\"model.keras\")"
   ]
  }
 ],
 "metadata": {
  "kernelspec": {
   "display_name": "Python 3",
   "language": "python",
   "name": "python3"
  },
  "language_info": {
   "codemirror_mode": {
    "name": "ipython",
    "version": 3
   },
   "file_extension": ".py",
   "mimetype": "text/x-python",
   "name": "python",
   "nbconvert_exporter": "python",
   "pygments_lexer": "ipython3",
   "version": "3.11.7"
  }
 },
 "nbformat": 4,
 "nbformat_minor": 2
}
